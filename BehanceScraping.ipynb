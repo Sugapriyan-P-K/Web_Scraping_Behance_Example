{
 "cells": [
  {
   "cell_type": "code",
   "execution_count": 17,
   "id": "8538ed7a",
   "metadata": {},
   "outputs": [],
   "source": [
    "from selenium import webdriver\n",
    "from selenium.webdriver.common.keys import Keys\n",
    "from selenium.webdriver.support import expected_conditions as EC\n",
    "from selenium.webdriver.common.by import By\n",
    "from selenium.webdriver.support.wait import WebDriverWait\n",
    "\n",
    "import os\n",
    "import wget"
   ]
  },
  {
   "cell_type": "code",
   "execution_count": 18,
   "id": "59aea292",
   "metadata": {},
   "outputs": [
    {
     "name": "stderr",
     "output_type": "stream",
     "text": [
      "C:\\Users\\sugap\\AppData\\Local\\Temp\\ipykernel_9676\\1833709819.py:1: DeprecationWarning: executable_path has been deprecated, please pass in a Service object\n",
      "  driver = webdriver.Chrome('C:/Users/sugap/Downloads/chromedriver_win32/chromedriver.exe') # driver path\n"
     ]
    }
   ],
   "source": [
    "driver = webdriver.Chrome('C:/Users/sugap/Downloads/chromedriver_win32/chromedriver.exe') # driver path\n",
    "driver.get('https://www.behance.net/')\n"
   ]
  },
  {
   "cell_type": "code",
   "execution_count": 19,
   "id": "027deb47",
   "metadata": {},
   "outputs": [],
   "source": [
    "forLogin = WebDriverWait(driver, 10).until(EC.element_to_be_clickable((By.XPATH, \"//button[@aria-controls='hamburger-menu']\"))).click()\n",
    "login = WebDriverWait(driver, 10).until(EC.element_to_be_clickable((By.XPATH, \"//div[contains(text(), 'Log In')]\"))).click()"
   ]
  },
  {
   "cell_type": "code",
   "execution_count": 20,
   "id": "4c3f40c8",
   "metadata": {},
   "outputs": [],
   "source": [
    "\n",
    "email = WebDriverWait(driver, 10).until(EC.element_to_be_clickable((By.CSS_SELECTOR, \"input[name='username']\"))) # need to view the source of the page\n",
    "email.clear()\n",
    "email.send_keys(\"YourEmail@gmail.com\") # your email goes here\n",
    "continues = WebDriverWait(driver, 10).until(EC.element_to_be_clickable((By.XPATH, \"//span[contains(text(), 'Continue')]\"))).click()"
   ]
  },
  {
   "cell_type": "code",
   "execution_count": 21,
   "id": "fd8ae7cb",
   "metadata": {},
   "outputs": [],
   "source": [
    "# only execute if there is a verification code has been to send you and then by seeing the verification code manually on the ouput browser\n",
    "continues = WebDriverWait(driver, 10).until(EC.element_to_be_clickable((By.XPATH, \"//span[contains(text(), 'Continue')]\"))).click()"
   ]
  },
  {
   "cell_type": "code",
   "execution_count": 22,
   "id": "2f0a0dd6",
   "metadata": {},
   "outputs": [],
   "source": [
    "password = WebDriverWait(driver, 10).until(EC.element_to_be_clickable((By.CSS_SELECTOR, \"input[name='password']\"))) # need to view the source of the page\n",
    "password.clear()\n",
    "password.send_keys(\"Password\") # Your Password Goes here\n",
    "continues = WebDriverWait(driver, 10).until(EC.element_to_be_clickable((By.XPATH, \"//span[contains(text(), 'Continue')]\"))).click()"
   ]
  },
  {
   "cell_type": "code",
   "execution_count": 28,
   "id": "8e723402",
   "metadata": {},
   "outputs": [],
   "source": [
    "\n",
    "\n",
    "search = WebDriverWait(driver, 10).until(EC.element_to_be_clickable((By.CSS_SELECTOR, \"input[name='search']\")))\n",
    "search.click()\n",
    "# search.clear()\n",
    "\n",
    "keyword = \"resume\" # to be given\n",
    "search.send_keys(keyword)\n",
    "search.send_keys(Keys.ENTER)"
   ]
  },
  {
   "cell_type": "code",
   "execution_count": 30,
   "id": "7639078b",
   "metadata": {},
   "outputs": [
    {
     "data": {
      "text/plain": [
       "['https://a5.behance.net/6ef97bf404b19998288ba6098aab41c0afbb14ea/img/profile/no-image-230.png?cb=264615658',\n",
       " 'https://a5.behance.net/6ef97bf404b19998288ba6098aab41c0afbb14ea/img/profile/no-image-100.png?cb=264615658',\n",
       " 'https://mir-s3-cdn-cf.behance.net/projects/404/1ab623152751253.Y3JvcCw5MDIsNzA1LDI4OCwyMTI.png',\n",
       " 'https://mir-s3-cdn-cf.behance.net/projects/404/2ff75c146736515.Y3JvcCwxMjc4LDEwMDAsNjAsMA.jpg',\n",
       " 'https://mir-s3-cdn-cf.behance.net/projects/404/04c455165141085.Y3JvcCwxMDE1LDc5NCwxMjAsNzU0.jpg',\n",
       " 'https://mir-s3-cdn-cf.behance.net/projects/404/aba04c159574913.Y3JvcCwzNzI2LDI5MTQsMCwzNg.jpg',\n",
       " 'https://mir-s3-cdn-cf.behance.net/projects/404/5b4c1e156344787.Y3JvcCwxNjE2LDEyNjQsMCww.png',\n",
       " 'https://mir-s3-cdn-cf.behance.net/projects/404/71d68c165470611.Y3JvcCw5MDAsNzA0LDI0NywxNDQ.png',\n",
       " 'https://mir-s3-cdn-cf.behance.net/projects/404/57cc34163060497.Y3JvcCwzMjMyLDI1MjgsMCww.png',\n",
       " 'https://mir-s3-cdn-cf.behance.net/projects/404/581b1b163490841.Y3JvcCwxNzM3LDEzNTksMCww.jpg',\n",
       " 'https://mir-s3-cdn-cf.behance.net/projects/404/42d65e163099969.Y3JvcCwxNDkxLDExNjYsMjU4LDky.jpg',\n",
       " 'https://mir-s3-cdn-cf.behance.net/projects/404/c43bd2143559273.Y3JvcCwzMTcwLDI0ODAsMTY0LDA.jpg',\n",
       " 'https://mir-s3-cdn-cf.behance.net/projects/404/6b18a9162964871.Y3JvcCwxNzM3LDEzNTksMTUwLDA.jpg',\n",
       " 'https://mir-s3-cdn-cf.behance.net/projects/404/ec35db163832765.Y3JvcCwxMTY3LDkxMiwxMDEsMA.jpg',\n",
       " 'https://mir-s3-cdn-cf.behance.net/projects/404/7ee8bf164921763.Y3JvcCwxMzQ3LDEwNTMsMCww.jpg',\n",
       " 'https://mir-s3-cdn-cf.behance.net/projects/404/37e1da161534181.63d3a409b6ddf.jpg',\n",
       " 'https://mir-s3-cdn-cf.behance.net/projects/404/fd5e0b163319913.Y3JvcCw5OTksNzgxLDEzOCww.jpg',\n",
       " 'https://mir-s3-cdn-cf.behance.net/projects/404/90eadc145816145.Y3JvcCwxMTUwLDkwMCwxMjUsMA.gif',\n",
       " 'https://mir-s3-cdn-cf.behance.net/projects/404/7a1de6156189033.Y3JvcCwyMjQyLDE3NTMsMjgzLDA.png',\n",
       " 'https://mir-s3-cdn-cf.behance.net/projects/404/dd8fc1163832751.Y3JvcCwxMTY3LDkxMiwxMDEsMA.jpg',\n",
       " 'https://mir-s3-cdn-cf.behance.net/projects/404/925923163832079.Y3JvcCwxMTY3LDkxMiwxMDEsMA.jpg',\n",
       " 'https://mir-s3-cdn-cf.behance.net/projects/404/40beff163831313.Y3JvcCwxMTY3LDkxMiwxMDEsMA.jpg',\n",
       " 'https://mir-s3-cdn-cf.behance.net/projects/404/486870163831283.Y3JvcCwxMTY3LDkxMiwxMDEsMA.jpg',\n",
       " 'https://mir-s3-cdn-cf.behance.net/projects/404/0153c4163831375.Y3JvcCwxMTY3LDkxMiwxMDEsMA.jpg',\n",
       " 'https://mir-s3-cdn-cf.behance.net/projects/404/00ed34163830629.Y3JvcCwxMTY3LDkxMiwxMDEsMA.jpg',\n",
       " 'https://mir-s3-cdn-cf.behance.net/projects/404/069e7e163832163.Y3JvcCwxMTY3LDkxMiwxMDEsMA.jpg',\n",
       " 'https://mir-s3-cdn-cf.behance.net/projects/404/1ae33f163833765.Y3JvcCwxMTY3LDkxMiwxMDEsMA.jpg',\n",
       " 'https://mir-s3-cdn-cf.behance.net/projects/404/bc84c4163832741.Y3JvcCwxMTY3LDkxMiwxMDEsMA.jpg',\n",
       " 'https://mir-s3-cdn-cf.behance.net/projects/404/8d1e40163833847.Y3JvcCwxMTY3LDkxMiwxMDEsMA.jpg',\n",
       " 'https://mir-s3-cdn-cf.behance.net/projects/404/63114b163831349.Y3JvcCwxMTY3LDkxMiwxMDEsMA.jpg',\n",
       " 'https://mir-s3-cdn-cf.behance.net/projects/404/bd66f2163832783.Y3JvcCwxMTY3LDkxMiwxMDEsMA.jpg',\n",
       " 'https://mir-s3-cdn-cf.behance.net/projects/404/f96a89163831783.Y3JvcCwxMTY3LDkxMiwxMDEsMA.jpg',\n",
       " 'https://mir-s3-cdn-cf.behance.net/projects/404/ca44e6163831393.Y3JvcCwxMTY3LDkxMiwxMDEsMA.jpg',\n",
       " 'https://mir-s3-cdn-cf.behance.net/projects/404/b84640163831799.Y3JvcCwxMTY3LDkxMiwxMDEsMA.jpg',\n",
       " 'https://mir-s3-cdn-cf.behance.net/projects/404/62a2e3163832757.Y3JvcCwxMTY3LDkxMiwxMDEsMA.jpg',\n",
       " 'https://mir-s3-cdn-cf.behance.net/projects/404/3bca7e163832097.Y3JvcCwxMTY3LDkxMiwxMDEsMA.jpg',\n",
       " 'https://mir-s3-cdn-cf.behance.net/projects/404/4a4297159245893.Y3JvcCwxODg4LDE0NzcsMTQ5LDA.png',\n",
       " 'https://mir-s3-cdn-cf.behance.net/projects/404/4a7bd3163832183.Y3JvcCwxMTY3LDkxMiwxMDEsMA.jpg',\n",
       " 'https://mir-s3-cdn-cf.behance.net/projects/404/bd2e7d163831817.Y3JvcCwxMTY3LDkxMiwxMDEsMA.jpg',\n",
       " 'https://mir-s3-cdn-cf.behance.net/projects/404/d05899163831809.Y3JvcCwxMTY3LDkxMiwxMDEsMA.jpg',\n",
       " 'https://mir-s3-cdn-cf.behance.net/projects/404/6543c5163832187.Y3JvcCwxMTY3LDkxMiwxMDEsMA.jpg',\n",
       " 'https://mir-s3-cdn-cf.behance.net/projects/404/43d53a154950087.Y3JvcCw1NTIzLDQzMjAsMjczLDA.jpg',\n",
       " 'https://mir-s3-cdn-cf.behance.net/projects/404/64fc3b163831777.Y3JvcCwxMTY3LDkxMiwxMDEsMA.jpg',\n",
       " 'https://mir-s3-cdn-cf.behance.net/projects/404/7a0a34163833785.Y3JvcCwxMTY3LDkxMiwxMDEsMA.jpg',\n",
       " 'https://mir-s3-cdn-cf.behance.net/projects/404/57c19d143430515.Y3JvcCw3NDQzLDU4MjEsMCwyNTc.png',\n",
       " 'https://mir-s3-cdn-cf.behance.net/projects/404/42d6f9138023915.Y3JvcCwxNjU5LDEyOTgsMTMxLDA.png',\n",
       " 'https://mir-s3-cdn-cf.behance.net/projects/404/0b800f132155215.Y3JvcCwyMTMxLDE2NjcsMjY5LDA.jpg',\n",
       " 'https://mir-s3-cdn-cf.behance.net/projects/404/8deb6d163830617.Y3JvcCwxMTY3LDkxMiwxMDEsMA.jpg',\n",
       " 'https://mir-s3-cdn-cf.behance.net/projects/404/b1e650160916605.Y3JvcCwxMzUzLDEwNTksMyww.jpg',\n",
       " 'https://mir-s3-cdn-cf.behance.net/projects/404/35b1d6124844897.Y3JvcCwxOTIwLDE1MDEsMCwzMw.jpg',\n",
       " 'https://mir-s3-cdn-cf.behance.net/projects/404/d11afb160621111.Y3JvcCw4MTAsNjMzLDAsMA.png',\n",
       " 'https://mir-s3-cdn-cf.behance.net/projects/404/a75b8d124315081.Y3JvcCw1NzU0LDQ1MDEsMTEyNSww.jpg',\n",
       " 'https://mir-s3-cdn-cf.behance.net/projects/404/8cc0e6152949457.Y3JvcCwzMTcxLDI0ODEsMTY0LDA.jpg',\n",
       " 'https://mir-s3-cdn-cf.behance.net/projects/404/1b6e24166643521.Y3JvcCwxOTczLDE1NDQsMCww.jpg',\n",
       " 'https://mir-s3-cdn-cf.behance.net/projects/404/d5e24d159836357.Y3JvcCwxMTQzLDg5NCwxMjcsNTM.jpg',\n",
       " 'https://mir-s3-cdn-cf.behance.net/projects/404/ad75ce142891865.62c40ea7d0101.jpg',\n",
       " 'https://mir-s3-cdn-cf.behance.net/projects/404/5c037c156147937.63872e0d1493b.jpg',\n",
       " 'https://mir-s3-cdn-cf.behance.net/projects/404/6c2078133170497.Y3JvcCwxMTUwLDkwMCwxMjUsMA.png',\n",
       " 'https://mir-s3-cdn-cf.behance.net/projects/404/a3e56286073839.Y3JvcCw3MzIsNTcyLDMyOCw4OTc.jpg',\n",
       " 'https://mir-s3-cdn-cf.behance.net/projects/404/69df9d159604377.Y3JvcCwxMDg1LDg0OSw1Niww.jpg',\n",
       " 'https://mir-s3-cdn-cf.behance.net/projects/404/b852a7165202019.Y3JvcCwxMTYwLDkwNywwLDA.jpg',\n",
       " 'https://mir-s3-cdn-cf.behance.net/projects/404/3e2261149828139.Y3JvcCwyMjg5LDE3OTEsNTEsMA.png',\n",
       " 'https://mir-s3-cdn-cf.behance.net/projects/404/066c38165502113.Y3JvcCwxODAwLDE0MDcsMCww.jpg',\n",
       " 'https://mir-s3-cdn-cf.behance.net/projects/404/ac1880165718003.Y3JvcCwxMTYwLDkwNywwLDA.jpg',\n",
       " 'https://mir-s3-cdn-cf.behance.net/projects/404/5cdc3c156983147.Y3JvcCwxNTI1LDExOTMsNjQ5LDA.jpg',\n",
       " 'https://mir-s3-cdn-cf.behance.net/projects/404/29fc50153679411.Y3JvcCwzMTcxLDI0ODEsMzA2LDA.jpg',\n",
       " 'https://mir-s3-cdn-cf.behance.net/projects/404/99b5e7142390051.Y3JvcCwzMTcxLDI0ODEsMTY0LDA.jpg',\n",
       " 'https://mir-s3-cdn-cf.behance.net/projects/404/f49a99166135467.Y3JvcCw5MTUsNzE1LDE4Myw4Mw.jpg',\n",
       " 'https://mir-s3-cdn-cf.behance.net/projects/404/baa95e163830625.Y3JvcCwxMTY3LDkxMiwxMDEsMA.jpg',\n",
       " 'https://mir-s3-cdn-cf.behance.net/projects/404/35b0ea165111533.Y3JvcCwxMTYwLDkwNywwLDA.jpg',\n",
       " 'https://mir-s3-cdn-cf.behance.net/projects/404/232d1f140354041.62e3e4c1421b9.jpg',\n",
       " 'https://mir-s3-cdn-cf.behance.net/projects/404/6380f6160015291.Y3JvcCwxNjYyLDEzMDAsMTY4LDA.png',\n",
       " 'https://mir-s3-cdn-cf.behance.net/projects/404/7e5441157529559.Y3JvcCwzMDQ1LDIzODIsMTU4LDA.png',\n",
       " 'https://mir-s3-cdn-cf.behance.net/projects/404/11ac97162017657.Y3JvcCwyNDI0LDE4OTYsMCww.jpg',\n",
       " 'https://mir-s3-cdn-cf.behance.net/projects/404/54631e129693025.Y3JvcCwxMzgwLDEwODAsMjcwLDA.png',\n",
       " 'https://mir-s3-cdn-cf.behance.net/projects/404/d65fcc166224831.Y3JvcCwxMTYwLDkwNywwLDA.jpg',\n",
       " 'https://mir-s3-cdn-cf.behance.net/projects/404/5b3405160096013.Y3JvcCwxMDA3LDc4OCwxOTcsMA.gif',\n",
       " 'https://mir-s3-cdn-cf.behance.net/projects/404/a3f30e161094805.Y3JvcCw4MDgsNjMyLDAsMA.jpg',\n",
       " 'https://mir-s3-cdn-cf.behance.net/projects/404/84d973132111923.Y3JvcCwxMjY1LDk5MCw2NSww.png',\n",
       " 'https://mir-s3-cdn-cf.behance.net/projects/404/6c2691155287725.Y3JvcCwxMzQ4LDEwNTQsMzIzLDIz.png',\n",
       " 'https://mir-s3-cdn-cf.behance.net/projects/404/7591d1163971043.Y3JvcCwxMzgwLDEwODAsMTAsMA.png',\n",
       " 'https://mir-s3-cdn-cf.behance.net/projects/404/d2a3a4160230769.Y3JvcCw4MDgsNjMyLDAsMA.png',\n",
       " 'https://mir-s3-cdn-cf.behance.net/projects/404/c08a9d162834203.Y3JvcCw0MDY1LDMxNzksMCww.jpg',\n",
       " 'https://mir-s3-cdn-cf.behance.net/projects/404/99a133157178853.Y3JvcCwxMzgwLDEwODAsMjcwLDA.png',\n",
       " 'https://mir-s3-cdn-cf.behance.net/projects/404/610b4a163760087.Y3JvcCwxNDQwLDExMjYsMCww.png',\n",
       " 'https://mir-s3-cdn-cf.behance.net/projects/404/317c05158358493.Y3JvcCw0NTI3LDM1NDAsMzkyLDA.jpg',\n",
       " 'https://mir-s3-cdn-cf.behance.net/projects/404/7a916e136165099.Y3JvcCwyMDQ1LDE2MDAsMjYzLDA.png',\n",
       " 'https://mir-s3-cdn-cf.behance.net/projects/404/d34215132911135.Y3JvcCwyODc3LDIyNTEsNTYyLDA.jpg',\n",
       " 'https://mir-s3-cdn-cf.behance.net/projects/404/ceb961109443563.Y3JvcCwxNDk0LDExNjgsMCwxNA.png',\n",
       " 'https://mir-s3-cdn-cf.behance.net/projects/404/59f4e1164697603.Y3JvcCwyNjE4LDIwNDgsMjAwLDA.png',\n",
       " 'https://mir-s3-cdn-cf.behance.net/projects/404/76fa99163833773.Y3JvcCwxMTY3LDkxMiwxMDEsMA.jpg',\n",
       " 'https://mir-s3-cdn-cf.behance.net/projects/404/e0c547123246653.Y3JvcCwzMTcwLDI0ODAsMTQ5LDA.png',\n",
       " 'https://mir-s3-cdn-cf.behance.net/projects/404/6e198a108419703.Y3JvcCwyMTE0LDE2NTQsMTA5LDA.png',\n",
       " 'https://mir-s3-cdn-cf.behance.net/projects/404/752c0f157244539.Y3JvcCwxMzgwLDEwODAsMTcsMA.jpg',\n",
       " 'https://mir-s3-cdn-cf.behance.net/projects/404/8a8f26118907629.Y3JvcCwxMDc3LDg0MywxNjAsMA.jpg',\n",
       " 'https://mir-s3-cdn-cf.behance.net/projects/404/4073a8163229197.Y3JvcCw4MDgsNjMyLDAsMA.png',\n",
       " 'https://mir-s3-cdn-cf.behance.net/projects/404/3a68e2148089463.Y3JvcCwxNzgxLDEzOTMsMCwxMw.jpg',\n",
       " 'https://mir-s3-cdn-cf.behance.net/projects/404/bad16e59262539.Y3JvcCwxMjQ5LDk3Nyw3Nyw2NA.jpg',\n",
       " 'https://a5.behance.net/6ef97bf404b19998288ba6098aab41c0afbb14ea/img/galleries/icons/ribbons/1x/graphic-design.png?cb=264615658',\n",
       " 'https://a5.behance.net/6ef97bf404b19998288ba6098aab41c0afbb14ea/img/galleries/icons/ribbons/1x/photoshop.png?cb=264615658']"
      ]
     },
     "execution_count": 30,
     "metadata": {},
     "output_type": "execute_result"
    }
   ],
   "source": [
    "driver.execute_script(\"window.scrollTo(0, 4000);\")\n",
    "\n",
    "images = driver.find_elements(By.TAG_NAME,\"img\")\n",
    "images = [image.get_attribute(\"src\") for image in images]\n",
    "images"
   ]
  },
  {
   "cell_type": "code",
   "execution_count": 31,
   "id": "eaf70ee7",
   "metadata": {},
   "outputs": [],
   "source": [
    "\n",
    "path = os.getcwd()\n",
    "path = os.path.join(path, keyword + \"s\")\n",
    "os.mkdir(path)"
   ]
  },
  {
   "cell_type": "code",
   "execution_count": null,
   "id": "f93483fd",
   "metadata": {},
   "outputs": [
    {
     "name": "stdout",
     "output_type": "stream",
     "text": [
      "100% [..............................................................................] 39773 / 39773"
     ]
    }
   ],
   "source": [
    "counter = 0\n",
    "for image in images:\n",
    "    save_as = os.path.join(path, keyword[1:] + str(counter) + '.jpg')\n",
    "    wget.download(image, save_as)\n",
    "    counter += 1"
   ]
  },
  {
   "cell_type": "code",
   "execution_count": null,
   "id": "0902d0c9",
   "metadata": {},
   "outputs": [],
   "source": []
  }
 ],
 "metadata": {
  "kernelspec": {
   "display_name": "Python 3 (ipykernel)",
   "language": "python",
   "name": "python3"
  },
  "language_info": {
   "codemirror_mode": {
    "name": "ipython",
    "version": 3
   },
   "file_extension": ".py",
   "mimetype": "text/x-python",
   "name": "python",
   "nbconvert_exporter": "python",
   "pygments_lexer": "ipython3",
   "version": "3.9.8"
  }
 },
 "nbformat": 4,
 "nbformat_minor": 5
}
