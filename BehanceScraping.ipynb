{
 "cells": [
  {
   "cell_type": "code",
   "execution_count": 17,
   "id": "8538ed7a",
   "metadata": {},
   "outputs": [],
   "source": [
    "from selenium import webdriver\n",
    "from selenium.webdriver.common.keys import Keys\n",
    "from selenium.webdriver.support import expected_conditions as EC\n",
    "from selenium.webdriver.common.by import By\n",
    "from selenium.webdriver.support.wait import WebDriverWait\n",
    "\n",
    "import os\n",
    "import wget"
   ]
  },
  {
   "cell_type": "code",
   "execution_count": null,
   "id": "59aea292",
   "metadata": {},
   "outputs": [],
   "source": [
    "driver = webdriver.Chrome('C:/Users/sugap/Downloads/chromedriver_win32/chromedriver.exe') # driver path\n",
    "driver.get('https://www.behance.net/')\n"
   ]
  },
  {
   "cell_type": "code",
   "execution_count": 19,
   "id": "027deb47",
   "metadata": {},
   "outputs": [],
   "source": [
    "forLogin = WebDriverWait(driver, 10).until(EC.element_to_be_clickable((By.XPATH, \"//button[@aria-controls='hamburger-menu']\"))).click()\n",
    "login = WebDriverWait(driver, 10).until(EC.element_to_be_clickable((By.XPATH, \"//div[contains(text(), 'Log In')]\"))).click()"
   ]
  },
  {
   "cell_type": "code",
   "execution_count": 20,
   "id": "4c3f40c8",
   "metadata": {},
   "outputs": [],
   "source": [
    "\n",
    "email = WebDriverWait(driver, 10).until(EC.element_to_be_clickable((By.CSS_SELECTOR, \"input[name='username']\"))) # need to view the source of the page\n",
    "email.clear()\n",
    "email.send_keys(\"YourEmail@gmail.com\") # your email goes here\n",
    "continues = WebDriverWait(driver, 10).until(EC.element_to_be_clickable((By.XPATH, \"//span[contains(text(), 'Continue')]\"))).click()"
   ]
  },
  {
   "cell_type": "code",
   "execution_count": 21,
   "id": "fd8ae7cb",
   "metadata": {},
   "outputs": [],
   "source": [
    "# only execute if there is a verification code has been to send you and then by seeing the verification code manually on the ouput browser\n",
    "continues = WebDriverWait(driver, 10).until(EC.element_to_be_clickable((By.XPATH, \"//span[contains(text(), 'Continue')]\"))).click()"
   ]
  },
  {
   "cell_type": "code",
   "execution_count": 22,
   "id": "2f0a0dd6",
   "metadata": {},
   "outputs": [],
   "source": [
    "password = WebDriverWait(driver, 10).until(EC.element_to_be_clickable((By.CSS_SELECTOR, \"input[name='password']\"))) # need to view the source of the page\n",
    "password.clear()\n",
    "password.send_keys(\"Password\") # Your Password Goes here\n",
    "continues = WebDriverWait(driver, 10).until(EC.element_to_be_clickable((By.XPATH, \"//span[contains(text(), 'Continue')]\"))).click()"
   ]
  },
  {
   "cell_type": "code",
   "execution_count": 28,
   "id": "8e723402",
   "metadata": {},
   "outputs": [],
   "source": [
    "\n",
    "\n",
    "search = WebDriverWait(driver, 10).until(EC.element_to_be_clickable((By.CSS_SELECTOR, \"input[name='search']\")))\n",
    "search.click()\n",
    "# search.clear()\n",
    "\n",
    "keyword = \"resume\" # to be given\n",
    "search.send_keys(keyword)\n",
    "search.send_keys(Keys.ENTER)"
   ]
  },
  {
   "cell_type": "code",
   "execution_count": null,
   "id": "7639078b",
   "metadata": {},
   "outputs": [],
   "source": [
    "driver.execute_script(\"window.scrollTo(0, 4000);\")\n",
    "\n",
    "images = driver.find_elements(By.TAG_NAME,\"img\")\n",
    "images = [image.get_attribute(\"src\") for image in images]\n",
    "images"
   ]
  },
  {
   "cell_type": "code",
   "execution_count": 31,
   "id": "eaf70ee7",
   "metadata": {},
   "outputs": [],
   "source": [
    "\n",
    "path = os.getcwd()\n",
    "path = os.path.join(path, keyword + \"s\")\n",
    "os.mkdir(path)"
   ]
  },
  {
   "cell_type": "code",
   "execution_count": null,
   "id": "f93483fd",
   "metadata": {},
   "outputs": [],
   "source": [
    "counter = 0\n",
    "for image in images:\n",
    "    save_as = os.path.join(path, keyword[1:] + str(counter) + '.jpg')\n",
    "    wget.download(image, save_as)\n",
    "    counter += 1"
   ]
  },
  {
   "cell_type": "code",
   "execution_count": null,
   "id": "0902d0c9",
   "metadata": {},
   "outputs": [],
   "source": []
  }
 ],
 "metadata": {
  "kernelspec": {
   "display_name": "Python 3 (ipykernel)",
   "language": "python",
   "name": "python3"
  },
  "language_info": {
   "codemirror_mode": {
    "name": "ipython",
    "version": 3
   },
   "file_extension": ".py",
   "mimetype": "text/x-python",
   "name": "python",
   "nbconvert_exporter": "python",
   "pygments_lexer": "ipython3",
   "version": "3.9.8"
  }
 },
 "nbformat": 4,
 "nbformat_minor": 5
}
